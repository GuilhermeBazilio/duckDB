{
 "cells": [
  {
   "cell_type": "code",
   "execution_count": 3,
   "id": "99894af4",
   "metadata": {},
   "outputs": [
    {
     "name": "stdout",
     "output_type": "stream",
     "text": [
      "┌──────────┬──────────┬────────────────┐\n",
      "│ FORMACAO │ VITORIAS │     LOCAL      │\n",
      "│ varchar  │  int64   │    varchar     │\n",
      "├──────────┼──────────┼────────────────┤\n",
      "│ 4-2-3-1  │        3 │ DENTRO DE CASA │\n",
      "│ 3-4-2-1  │        3 │ DENTRO DE CASA │\n",
      "│ 4-2-3-1  │        2 │ FORA DE CASA   │\n",
      "│ 4-3-3    │        2 │ FORA DE CASA   │\n",
      "└──────────┴──────────┴────────────────┘\n",
      "\n"
     ]
    }
   ],
   "source": [
    "import duckdb\n",
    "\n",
    "# Conectando ao DuckDB\n",
    "conn = duckdb.connect()\n",
    "\n",
    "# Consulta usando o DuckDB lendo o arquivos do diretório com a extensão CSV\n",
    "result = conn.query(\"\"\"\n",
    "    WITH VITORIAS_MANDANTE AS (\n",
    "        SELECT\n",
    "            TRIM(FORMACAO_MANDANTE) AS FORMACAO,\n",
    "            COUNT(*) AS VITORIAS,\n",
    "            RANK() OVER (ORDER BY COUNT(*) DESC) AS FORMACAO_RANK,\n",
    "            'DENTRO DE CASA' AS LOCAL\n",
    "        FROM\n",
    "            '*.csv'\n",
    "        WHERE\n",
    "            (upper(vencedor) = 'GREMIO' and upper(mandante)='GREMIO') and (data between '2023-01-01' and '2023-12-31')\n",
    "        GROUP BY\n",
    "            FORMACAO_MANDANTE\n",
    "    ),\n",
    "    \n",
    "    VITORIAS_VISITANTE AS (\n",
    "        SELECT\n",
    "            TRIM(FORMACAO_VISITANTE) AS FORMACAO,\n",
    "            COUNT(*) AS VITORIAS,\n",
    "            RANK() OVER (ORDER BY COUNT(*) DESC) AS FORMACAO_RANK,\n",
    "            'FORA DE CASA' AS LOCAL\n",
    "        FROM\n",
    "            '*.csv'\n",
    "        WHERE\n",
    "            (upper(vencedor) = 'GREMIO' and upper(visitante)='GREMIO') and (data between '2023-01-01' and '2023-12-31')\n",
    "        GROUP BY\n",
    "            FORMACAO_VISITANTE\n",
    "    )    \n",
    "    \n",
    "    SELECT\n",
    "        FORMACAO,\n",
    "        VITORIAS,\n",
    "        LOCAL\n",
    "    FROM\n",
    "        VITORIAS_MANDANTE\n",
    "    WHERE\n",
    "        FORMACAO_RANK = 1\n",
    "    UNION ALL\n",
    "    SELECT\n",
    "        FORMACAO,\n",
    "        VITORIAS,\n",
    "        LOCAL\n",
    "    FROM\n",
    "        VITORIAS_VISITANTE\n",
    "    WHERE\n",
    "        FORMACAO_RANK = 1    \n",
    ";\n",
    "\"\"\")\n",
    "\n",
    "print(result)\n",
    "\n",
    "# Fecha a conexão\n",
    "conn.close()"
   ]
  }
 ],
 "metadata": {
  "kernelspec": {
   "display_name": "Python 3 (ipykernel)",
   "language": "python",
   "name": "python3"
  },
  "language_info": {
   "codemirror_mode": {
    "name": "ipython",
    "version": 3
   },
   "file_extension": ".py",
   "mimetype": "text/x-python",
   "name": "python",
   "nbconvert_exporter": "python",
   "pygments_lexer": "ipython3",
   "version": "3.9.13"
  }
 },
 "nbformat": 4,
 "nbformat_minor": 5
}
